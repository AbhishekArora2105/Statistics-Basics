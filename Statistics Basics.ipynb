{
 "cells": [
  {
   "cell_type": "code",
   "execution_count": 1,
   "id": "50cd7f36-9ac8-44b9-ab1f-c2c6738bb0ce",
   "metadata": {},
   "outputs": [],
   "source": [
    "#1.What is statistics, and why is it important?\n",
    "\n",
    "#Statistics is a mathematical science including methods of collecting , organising and analysing data to get some useful insights from the data.\n",
    "\n",
    "#It is important because in machine learning we have to train data models with the data and it should be organised in a proper way which is done by statistics."
   ]
  },
  {
   "cell_type": "code",
   "execution_count": 2,
   "id": "d6f8e84b-1384-4803-8887-765a9f41fa2e",
   "metadata": {},
   "outputs": [],
   "source": [
    "#2. What are the two main types of statistics?\n",
    "\n",
    "#1.Descriptive Statistics:-Whole population is included\n",
    "#2.Inferential Statistics:- sample is taken from the whole population."
   ]
  },
  {
   "cell_type": "code",
   "execution_count": 3,
   "id": "1bb526b4-4706-4394-b5df-0d17d22bbb6d",
   "metadata": {},
   "outputs": [],
   "source": [
    "#3. What are descriptive statistics?\n",
    "\n",
    "#Descriptive statistics are methods used to summarize, organize, and present data in a meaningful way. \n",
    "# They help in understanding the main characteristics of a dataset without making inferences or predictions.\n",
    "#Types:--\n",
    "#1.Central tendency\n",
    "#2.Dispersion\n",
    "#3.Shape"
   ]
  },
  {
   "cell_type": "code",
   "execution_count": 4,
   "id": "a18465b5-d816-464a-95ef-4910febc8de8",
   "metadata": {},
   "outputs": [],
   "source": [
    "#4. What is inferential statistics?\n",
    "\n",
    "#Inferential statistics is a branch of statistics that allows us to make conclusions or generalizations about a population based on a sample of data.\n",
    "# Unlike descriptive statistics, which summarizes data, inferential statistics helps us make predictions, test hypotheses, and determine relationships between variables."
   ]
  },
  {
   "cell_type": "code",
   "execution_count": 5,
   "id": "4326282c-d2ad-4a64-9dbe-6a1f621c8ad6",
   "metadata": {},
   "outputs": [],
   "source": [
    "#5. What is sampling in statistics?\n",
    "\n",
    "#Sampling is the process of selecting a subset (sample) from a larger population to analyze and make inferences about the whole population.\n",
    "#Since studying an entire population is often impractical due to time, cost, or accessibility constraints, sampling helps in making reliable conclusions efficiently"
   ]
  },
  {
   "cell_type": "code",
   "execution_count": 6,
   "id": "8da24847-afa2-473e-8252-06c32de77ad4",
   "metadata": {},
   "outputs": [],
   "source": [
    "#6. What are the different types of sampling methods?\n",
    "\n",
    "#1.Simple random sampling\n",
    "#2.Stratified Sampling\n",
    "#3.Clustered Sampling\n",
    "#4.Systematic Sampling"
   ]
  },
  {
   "cell_type": "code",
   "execution_count": 7,
   "id": "5564c0c4-eb22-471e-b51e-2de9fe3c5b1d",
   "metadata": {},
   "outputs": [],
   "source": [
    "#7. What is the difference between random and non-random sampling?\n",
    "\n",
    "# In random sampling , any individual can get a chance to be into the sample.\n",
    "# But, it can be not much useful as some parts of the population cannot get a chance to be in the sample.\n",
    "\n",
    "#In non random sampling , the whole population is divided into subgroups so that every  part of the population can get an chance to be in sample fro the whole population."
   ]
  },
  {
   "cell_type": "code",
   "execution_count": 8,
   "id": "d2601e70-126b-4b78-a46e-83de1c477b13",
   "metadata": {},
   "outputs": [],
   "source": [
    "#8. Define and give examples of qualitative and quantitative data?\n",
    "\n",
    "# Qualitative data is a type of data including non-numeric data mostly or data on which any mathematical calculations cannot be done.\n",
    "#Types: nominal , ordinal.\n",
    "#fro eg: blood group , gender\n",
    "\n",
    "# Quantitative data is a type of data which include data on which mathematical calculations can be performed .\n",
    "#Types: discrete , continuous.\n",
    "#for eg: age , height."
   ]
  },
  {
   "cell_type": "code",
   "execution_count": 9,
   "id": "802c205a-a9b9-46ef-b580-20d27e42a10f",
   "metadata": {},
   "outputs": [],
   "source": [
    "#9. What are the different types of data in statistics?\n",
    "\n",
    "# Qualitative data is a type of data including non-numeric data mostly or data on which any mathematical calculations cannot be done.\n",
    "#Types: nominal: no order or rank  eg. gender , ordinal: has a rank  eg. grades.\n",
    "#fro eg: blood group , gender\n",
    "\n",
    "# Quantitative data is a type of data which include data on which mathematical calculations can be performed .\n",
    "#Types: discrete: always a whole number(1,2,3,4)  eg. no of cars , continuous: any valuee(1.2,3.4,5.67)  eg.temperature.\n",
    "#for eg: age , height.\n"
   ]
  },
  {
   "cell_type": "code",
   "execution_count": 10,
   "id": "79938028-e8b8-4a90-95d8-10c3a8e08845",
   "metadata": {},
   "outputs": [],
   "source": [
    "#10. Explain nominal, ordinal, interval, and ratio levels of measurement.\n",
    "\n",
    "# 1. Nominal scale data: no order in this data , any mathematical operations cannot be performed.\n",
    "# 2. Ordinal Scale data: there is an order in data , difference cannot be measured.\n",
    "# 3. Interval Scale data: Difference can be measured , does not have 0 compulsory starting value.\n",
    "# 4. Ratio Scale data: difference can be measured , 0 is the starting complusory value."
   ]
  },
  {
   "cell_type": "code",
   "execution_count": 11,
   "id": "2c167dbb-406d-42f6-97d7-ff5922552c9b",
   "metadata": {},
   "outputs": [],
   "source": [
    "#11. What is the measure of central tendency?\n",
    "# A measure of central tendency is a statistical metric used to identify the center or typical value of a dataset.\n",
    "# It helps summarize data by providing a single representative value that describes the overall trend.\n"
   ]
  },
  {
   "cell_type": "code",
   "execution_count": 12,
   "id": "e0fdd362-35f5-4378-8614-6701edce78c2",
   "metadata": {},
   "outputs": [],
   "source": [
    "#12. Define mean, median, and mode?\n",
    "\n",
    "# Mean: The mean is the average of all data points.\n",
    "# Pros: Uses all data points, best for normally distributed data.\n",
    "# Cons: Sensitive to outliers.\n",
    "\n",
    "#Median: The median is the middle value when data is arranged in ascending order.\n",
    "# If N is odd: Median = middle value.\n",
    "# If N is even: Median = average of two middle values.\n",
    "# Pros: Less affected by outliers, better for skewed data.\n",
    "# Cons: Does not use all data points.\n",
    "\n",
    "#Mode: The mode is the most frequently occurring value in a dataset.\n",
    "# Pros: Useful for categorical data (e.g., most common color preference).\n",
    "# Cons: A dataset may have no mode or multiple modes, making interpretation tricky."
   ]
  },
  {
   "cell_type": "code",
   "execution_count": 13,
   "id": "5b2a7052-84de-4714-a955-224146239076",
   "metadata": {},
   "outputs": [],
   "source": [
    "#13. What is the significance of the measure of central tendency?\n",
    "\n",
    "#In most of the cases ,Central tendency is used to fill out the null values to analyse data correctly.It is known as Missing value imputation."
   ]
  },
  {
   "cell_type": "code",
   "execution_count": 14,
   "id": "17969279-c39d-404f-ab0f-140d3b7a1d6a",
   "metadata": {},
   "outputs": [],
   "source": [
    "#14. What is variance, and how is it calculated?\n",
    "\n",
    "# Variance is a statistical measure that quantifies how much the values in a dataset deviate from the mean. It indicates the spread or dispersion of data points.\n",
    "# A higher variance means the data points are more spread out, while a lower variance indicates they are closer to the mean.\n",
    "# It is a average value of the squared differences of all numbers from the mean.\n",
    "#Types: population variance, Sample variance."
   ]
  },
  {
   "cell_type": "code",
   "execution_count": 15,
   "id": "9c9fe482-4e87-4efb-8623-903de0a551dd",
   "metadata": {},
   "outputs": [],
   "source": [
    "#15. What is standard deviation, and why is it important?\n",
    "\n",
    "# Standard deviation (SD) is a measure of how much data points deviate from the mean. It quantifies the spread or dispersion of a dataset and is denoted as:\n",
    "\n",
    "# σ (sigma) for population standard deviation.\n",
    "# s for sample standard deviation.\n",
    "# Since standard deviation is the square root of variance, it is expressed in the same units as the data, making it more interpretable than variance."
   ]
  },
  {
   "cell_type": "code",
   "execution_count": 16,
   "id": "f6331637-8add-44bf-8bf6-e1cc0204eb0a",
   "metadata": {},
   "outputs": [],
   "source": [
    "#16. Define and explain the term range in statistics?\n",
    "\n",
    "# Range is a measure of dispersion that represents the difference between the highest and lowest values in a dataset.\n",
    "# It provides a simple way to understand the spread of data.\n",
    "# Formula for Range\n",
    "# Range=Maximum Value−Minimum Value"
   ]
  },
  {
   "cell_type": "code",
   "execution_count": 17,
   "id": "4bf45f00-6fd9-4bb7-b26c-39a16ee9744d",
   "metadata": {},
   "outputs": [],
   "source": [
    "#17. What is the difference between variance and standard deviation?\n",
    "\n",
    "#Definition:\n",
    "# Variance measures how far each data point is from the mean, on average, but in squared units.\n",
    "# Standard deviation is simply the square root of variance, bringing it back to the original units of the data.\n",
    "# Interpretability:\n",
    "# Variance is not directly interpretable because it is in squared units.\n",
    "# Standard deviation is more intuitive because it is in the same unit as the original data.\n",
    "# Formula:\n",
    "# Variance is calculated by taking the average of the squared differences from the mean.\n",
    "# Standard deviation is the square root of variance.\n",
    "# Sensitivity to Outliers:\n",
    "# Since variance squares the differences, it exaggerates the effect of outliers.\n",
    "# Standard deviation, while still affected by outliers, is less extreme because of the square root operation.\n",
    "# Usage:\n",
    "# Variance is useful in theoretical statistics and when comparing datasets mathematically.\n",
    "# Standard deviation is preferred in real-world applications because it gives a clearer sense of spread in normal units."
   ]
  },
  {
   "cell_type": "code",
   "execution_count": 18,
   "id": "a0bc480f-0002-4493-8ee7-a478d42c337d",
   "metadata": {},
   "outputs": [],
   "source": [
    "#18. What is skewness in a dataset?\n",
    "\n",
    "#Skewness is a measure of the asymmetry of the distribution of values in a dataset.\n",
    "# It tells us whether the data is symmetrically distributed around the mean or if it is skewed more towards one side."
   ]
  },
  {
   "cell_type": "code",
   "execution_count": 19,
   "id": "21658faf-c71d-42a5-bc2d-a202fda19ae9",
   "metadata": {},
   "outputs": [],
   "source": [
    "#19. What does it mean if a dataset is positively or negatively skewed?\n",
    "\n",
    "#Positive Skew (Right-Skewed, Skewness > 0)\n",
    "# The right tail of the distribution is longer.\n",
    "# Most values are concentrated on the left side, but a few high values pull the mean to the right.\n",
    "# Mean > Median > Mode.\n",
    "# Example: Income distribution (where a few very high salaries increase the mean).\n",
    "\n",
    "# Negative Skew (Left-Skewed, Skewness < 0)\n",
    "# The left tail of the distribution is longer.\n",
    "# Most values are concentrated on the right, but a few low values pull the mean to the left.\n",
    "# Mean < Median < Mode.\n",
    "# Example: Exam scores (where most students score high, but a few low scores pull the mean down).\n"
   ]
  },
  {
   "cell_type": "code",
   "execution_count": 20,
   "id": "4cd84611-b5fe-4c74-a209-2de232277d09",
   "metadata": {},
   "outputs": [],
   "source": [
    "#20. Define and explain kurtosis?\n",
    "\n",
    "#Kurtosis is a statistical measure that describes the shape of a distribution’s tails in relation to a normal distribution.\n",
    "# It tells us whether a dataset has heavy or light tails compared to a normal distribution.\n",
    "\n",
    "# Types of Kurtosis\n",
    "\n",
    "# Mesokurtic (Normal Distribution, Kurtosis = 3)\n",
    "# The distribution has moderate tails similar to a normal bell curve.\n",
    "# Example: A standard normal distribution (Gaussian distribution).\n",
    "\n",
    "# Leptokurtic (Heavy Tails, Kurtosis > 3)\n",
    "# The distribution has thicker tails, meaning more extreme outliers.\n",
    "# More values are concentrated around the mean, but extreme deviations occur more frequently.\n",
    "# Example: Stock market crashes, financial returns.\n",
    "\n",
    "# Platykurtic (Light Tails, Kurtosis < 3)\n",
    "# The distribution has thinner tails, meaning fewer outliers.\n",
    "# Data is more spread out, and extreme values are less frequent.\n",
    "# Example: Uniform distribution, rolling a fair die."
   ]
  },
  {
   "cell_type": "code",
   "execution_count": 21,
   "id": "9cef6fa2-b196-42c1-afdb-5d6916f3c15a",
   "metadata": {},
   "outputs": [],
   "source": [
    "#21. What is the purpose of covariance?\n",
    "\n",
    "#Determining the Direction of Relationship\n",
    "# Positive covariance : Both variables increase or decrease together.\n",
    "# Negative covariance : When one variable increases, the other decreases.\n",
    "# Zero covariance : No relationship between the variables."
   ]
  },
  {
   "cell_type": "code",
   "execution_count": 22,
   "id": "98f2ee3c-c574-4e11-8788-1d31aa426c2e",
   "metadata": {},
   "outputs": [],
   "source": [
    "#22. What does correlation measure in statistics?\n",
    "\n",
    "#Correlation measures the strength and direction of the relationship between two variables.\n",
    "# It tells us how strongly two variables are related and whether they move together in a predictable way.\n",
    "\n",
    "# Direction of Relationship:\n",
    "# Positive correlation (+1 or close to it) → Both variables increase or decrease together.\n",
    "# Negative correlation (−1 or close to it) → One variable increases while the other decreases.\n",
    "# No correlation (0 or close to it) → No clear relationship between variables.\n"
   ]
  },
  {
   "cell_type": "code",
   "execution_count": 23,
   "id": "c4703448-be20-4fb5-84ad-14ae693f9460",
   "metadata": {},
   "outputs": [],
   "source": [
    "#23. What is the difference between covariance and correlation?\n",
    "\n",
    "# Difference Between Covariance and Correlation:\n",
    "\n",
    "# Definition:\n",
    "# Covariance measures how two variables change together but does not provide a standardized value.\n",
    "# Correlation measures both the direction and strength of the relationship in a standardized way.\n",
    "\n",
    "# Scale Dependence:\n",
    "# Covariance is unit-dependent, meaning it changes based on the scale of the data (eg., measuring height in cm vs. inches).\n",
    "# Correlation is unit-free, making it comparable across different datasets."
   ]
  },
  {
   "cell_type": "code",
   "execution_count": 24,
   "id": "5cc176d0-d6c0-4353-b903-3309b6e0f3ab",
   "metadata": {},
   "outputs": [],
   "source": [
    "#24. What are some real-world applications of statistics?\n",
    "\n",
    "#1.Weather forecast.\n",
    "#2.Sports analytics.\n",
    "#3.Pharmaceutical companies.\n",
    "#4.Election campaigns."
   ]
  },
  {
   "cell_type": "markdown",
   "id": "7d5c75de-e375-4c2f-a251-86a02305bfcc",
   "metadata": {},
   "source": [
    "Practical Questions"
   ]
  },
  {
   "cell_type": "code",
   "execution_count": 31,
   "id": "ea121e49-e6a2-46f0-80e9-6ba1c4c358f8",
   "metadata": {},
   "outputs": [
    {
     "name": "stdout",
     "output_type": "stream",
     "text": [
      "4.888888888888889   5.0   6\n"
     ]
    }
   ],
   "source": [
    "#1. How do you calculate the mean, median, and mode of a dataset?\n",
    "a=[1,2,3,4,5,6,6,8,9]\n",
    "import numpy as np\n",
    "mean=np.mean(a)\n",
    "median=np.median(a)\n",
    "\n",
    "import statistics as sn\n",
    "mode=sn.mode(a)\n",
    "\n",
    "print(mean,\" \",median,\" \",mode)"
   ]
  },
  {
   "cell_type": "code",
   "execution_count": 33,
   "id": "98c2bc2f-45f9-4eb9-98c9-7c293a5e7eb1",
   "metadata": {},
   "outputs": [
    {
     "name": "stdout",
     "output_type": "stream",
     "text": [
      "6.320987654320987   2.5141574442188355\n"
     ]
    }
   ],
   "source": [
    "#2. Write a Python program to compute the variance and standard deviation of a dataset?\n",
    "\n",
    "a=[1,2,3,4,5,6,6,8,9]\n",
    "import statistics as sn\n",
    "\n",
    "var=sn.pvariance(a)\n",
    "std=sn.pstdev(a)\n",
    "print(var,\" \",std)\n"
   ]
  },
  {
   "cell_type": "code",
   "execution_count": 38,
   "id": "74bee497-7fb4-4955-ab8f-a1ed9436a350",
   "metadata": {},
   "outputs": [
    {
     "data": {
      "text/html": [
       "<div>\n",
       "<style scoped>\n",
       "    .dataframe tbody tr th:only-of-type {\n",
       "        vertical-align: middle;\n",
       "    }\n",
       "\n",
       "    .dataframe tbody tr th {\n",
       "        vertical-align: top;\n",
       "    }\n",
       "\n",
       "    .dataframe thead th {\n",
       "        text-align: right;\n",
       "    }\n",
       "</style>\n",
       "<table border=\"1\" class=\"dataframe\">\n",
       "  <thead>\n",
       "    <tr style=\"text-align: right;\">\n",
       "      <th></th>\n",
       "      <th>Student ID</th>\n",
       "      <th>Name</th>\n",
       "      <th>Grade Level</th>\n",
       "      <th>Exam Score</th>\n",
       "      <th>Temperature (°C)</th>\n",
       "      <th>Height (cm)</th>\n",
       "    </tr>\n",
       "  </thead>\n",
       "  <tbody>\n",
       "    <tr>\n",
       "      <th>0</th>\n",
       "      <td>101</td>\n",
       "      <td>Alice</td>\n",
       "      <td>Freshman</td>\n",
       "      <td>85</td>\n",
       "      <td>30</td>\n",
       "      <td>160</td>\n",
       "    </tr>\n",
       "    <tr>\n",
       "      <th>1</th>\n",
       "      <td>102</td>\n",
       "      <td>Bob</td>\n",
       "      <td>Sophomore</td>\n",
       "      <td>78</td>\n",
       "      <td>25</td>\n",
       "      <td>175</td>\n",
       "    </tr>\n",
       "    <tr>\n",
       "      <th>2</th>\n",
       "      <td>103</td>\n",
       "      <td>Charlie</td>\n",
       "      <td>Junior</td>\n",
       "      <td>92</td>\n",
       "      <td>28</td>\n",
       "      <td>168</td>\n",
       "    </tr>\n",
       "    <tr>\n",
       "      <th>3</th>\n",
       "      <td>104</td>\n",
       "      <td>David</td>\n",
       "      <td>Senior</td>\n",
       "      <td>88</td>\n",
       "      <td>32</td>\n",
       "      <td>180</td>\n",
       "    </tr>\n",
       "    <tr>\n",
       "      <th>4</th>\n",
       "      <td>105</td>\n",
       "      <td>Eve</td>\n",
       "      <td>Freshman</td>\n",
       "      <td>76</td>\n",
       "      <td>27</td>\n",
       "      <td>158</td>\n",
       "    </tr>\n",
       "  </tbody>\n",
       "</table>\n",
       "</div>"
      ],
      "text/plain": [
       "   Student ID     Name Grade Level  Exam Score  Temperature (°C)  Height (cm)\n",
       "0         101    Alice    Freshman          85                30          160\n",
       "1         102      Bob   Sophomore          78                25          175\n",
       "2         103  Charlie      Junior          92                28          168\n",
       "3         104    David      Senior          88                32          180\n",
       "4         105      Eve    Freshman          76                27          158"
      ]
     },
     "execution_count": 38,
     "metadata": {},
     "output_type": "execute_result"
    }
   ],
   "source": [
    "#3. Create a dataset and classify it into nominal, ordinal, interval, and ratio types.\n",
    "import pandas as pd\n",
    "data = {\n",
    "    \"Student ID\": [101, 102, 103, 104, 105],  \n",
    "    \"Name\": [\"Alice\", \"Bob\", \"Charlie\", \"David\", \"Eve\"],  \n",
    "    \"Grade Level\": [\"Freshman\", \"Sophomore\", \"Junior\", \"Senior\", \"Freshman\"],  \n",
    "    \"Exam Score\": [85, 78, 92, 88, 76], \n",
    "    \"Temperature (°C)\": [30, 25, 28, 32, 27],  \n",
    "    \"Height (cm)\": [160, 175, 168, 180, 158],  \n",
    "}\n",
    "df=pd.DataFrame(data)\n",
    "df\n",
    "#Student ID and Name are a nominal data type.\n",
    "#Grade Level is ordinal data type.\n",
    "#Temperature is a interval data type.\n",
    "#Height and Exam Score are ratio data type."
   ]
  },
  {
   "cell_type": "code",
   "execution_count": 40,
   "id": "9a5b6241-f624-4265-b30e-756dc875f20a",
   "metadata": {},
   "outputs": [
    {
     "name": "stdout",
     "output_type": "stream",
     "text": [
      "Original Dataset:\n",
      "     Student ID        Name Grade Level  Exam Score  Height (cm)\n",
      "0            1   Student_1   Sophomore          92          155\n",
      "1            2   Student_2      Junior          57          152\n",
      "2            3   Student_3      Senior          53          169\n",
      "3            4   Student_4   Sophomore          52          177\n",
      "4            5   Student_5      Junior          90          187\n",
      "5            6   Student_6    Freshman          54          168\n",
      "6            7   Student_7    Freshman          80          155\n",
      "7            8   Student_8      Junior          93          172\n",
      "8            9   Student_9      Junior          75          150\n",
      "9           10  Student_10      Junior          82          162\n",
      "10          11  Student_11      Senior          93          187\n",
      "11          12  Student_12    Freshman          93          168\n",
      "12          13  Student_13      Junior          83          175\n",
      "13          14  Student_14    Freshman          75          157\n",
      "14          15  Student_15   Sophomore          73          184\n",
      "15          16  Student_16      Senior          62          179\n",
      "16          17  Student_17      Senior          55          174\n",
      "17          18  Student_18      Junior          96          187\n",
      "18          19  Student_19    Freshman          62          155\n",
      "19          20  Student_20    Freshman          82          186\n",
      "\n",
      "Random Sample:\n",
      "     Student ID        Name Grade Level  Exam Score  Height (cm)\n",
      "0            1   Student_1   Sophomore          92          155\n",
      "17          18  Student_18      Junior          96          187\n",
      "15          16  Student_16      Senior          62          179\n",
      "1            2   Student_2      Junior          57          152\n",
      "8            9   Student_9      Junior          75          150\n",
      "\n",
      "Stratified Sample (Based on Grade Level):\n",
      "     Student ID        Name Grade Level  Exam Score  Height (cm)\n",
      "18          19  Student_19    Freshman          62          155\n",
      "9           10  Student_10      Junior          82          162\n",
      "13          14  Student_14    Freshman          75          157\n",
      "15          16  Student_16      Senior          62          179\n",
      "14          15  Student_15   Sophomore          73          184\n",
      "17          18  Student_18      Junior          96          187\n"
     ]
    }
   ],
   "source": [
    "#4. Implement sampling techniques like random sampling and stratified sampling.\n",
    "\n",
    "import pandas as pd\n",
    "import numpy as np\n",
    "from sklearn.model_selection import train_test_split\n",
    "\n",
    "\n",
    "data = {\n",
    "    \"Student ID\": range(1, 21),  \n",
    "    \"Name\": [f\"Student_{i}\" for i in range(1, 21)],\n",
    "    \"Grade Level\": np.random.choice([\"Freshman\", \"Sophomore\", \"Junior\", \"Senior\"], size=20),  \n",
    "    \"Exam Score\": np.random.randint(50, 100, size=20),  \n",
    "    \"Height (cm)\": np.random.randint(150, 190, size=20)  \n",
    "}\n",
    "\n",
    "df = pd.DataFrame(data)\n",
    "\n",
    "print(\"Original Dataset:\\n\", df)\n",
    "\n",
    "random_sample = df.sample(n=5, random_state=42)  \n",
    "print(\"\\nRandom Sample:\\n\", random_sample)\n",
    "\n",
    "train, stratified_sample = train_test_split(df, test_size=0.3, stratify=df[\"Grade Level\"], random_state=42)\n",
    "\n",
    "print(\"\\nStratified Sample (Based on Grade Level):\\n\", stratified_sample)\n"
   ]
  },
  {
   "cell_type": "code",
   "execution_count": 41,
   "id": "1d39c03f-2202-4c92-b11f-0e7d7afb7cdb",
   "metadata": {},
   "outputs": [
    {
     "data": {
      "text/plain": [
       "6"
      ]
     },
     "execution_count": 41,
     "metadata": {},
     "output_type": "execute_result"
    }
   ],
   "source": [
    "#5. Write a Python function to calculate the range of a dataset?\n",
    "\n",
    "def range_n(a):\n",
    "    return max(a)-min(a)\n",
    "\n",
    "a=[1,2,3,4,5,6,7]\n",
    "range_n(a)"
   ]
  },
  {
   "cell_type": "code",
   "execution_count": 48,
   "id": "aef625fa-59e4-4af7-923c-7f5adb945168",
   "metadata": {},
   "outputs": [
    {
     "data": {
      "image/png": "[encoded data removed]",
      "text/plain": [
       "<Figure size 1500x500 with 3 Axes>"
      ]
     },
     "metadata": {},
     "output_type": "display_data"
    }
   ],
   "source": [
    "#6.Create a dataset and plot its histogram to visualize skewness?\n",
    "\n",
    "import pandas as pd\n",
    "import seaborn as sns\n",
    "import matplotlib.pyplot as plt\n",
    "from scipy.stats import skew\n",
    "\n",
    "# Manually creating skewed datasets\n",
    "\n",
    "# Right-skewed data (positive skew)\n",
    "right_skewed_data = [5, 10, 15, 20, 25, 30, 35, 40, 80, 100]\n",
    "\n",
    "# Left-skewed data (negative skew)\n",
    "left_skewed_data = [5, 20, 40, 60, 75, 80, 85, 90, 92, 95]\n",
    "\n",
    "# Normally distributed data (almost symmetric)\n",
    "normal_data = [50, 52, 54, 56, 58, 60, 62, 64, 66, 68]\n",
    "\n",
    "# Creating a DataFrame\n",
    "df = pd.DataFrame({\n",
    "    \"Right Skewed\": right_skewed_data,\n",
    "    \"Left Skewed\": left_skewed_data,\n",
    "    \"Normal\": normal_data\n",
    "})\n",
    "\n",
    "# Plot histograms for each dataset\n",
    "plt.figure(figsize=(15, 5))\n",
    "\n",
    "for i, column in enumerate(df.columns):\n",
    "    plt.subplot(1, 3, i + 1)\n",
    "    sns.histplot(df[column], bins=5, kde=True, color=['red', 'green', 'blue'][i])\n",
    "    plt.title(f\"{column} Distribution\\nSkewness: {skew(df[column]):.2f}\")\n",
    "    plt.xlabel(\"Values\")\n",
    "    plt.ylabel(\"Frequency\")\n",
    "\n",
    "plt.tight_layout()\n",
    "plt.show()\n"
   ]
  },
  {
   "cell_type": "code",
   "execution_count": 49,
   "id": "223050f6-8dff-4efd-9542-ee09f9a27a99",
   "metadata": {},
   "outputs": [
    {
     "name": "stdout",
     "output_type": "stream",
     "text": [
      "1.142459665665156\n",
      "0.04148270434215062\n"
     ]
    }
   ],
   "source": [
    "#7. Calculate skewness and kurtosis of a dataset using Python libraries\n",
    "\n",
    "import pandas as pd\n",
    "from scipy.stats import skew, kurtosis\n",
    "\n",
    "\n",
    "data = {\n",
    "    \"Values\": [5, 10, 15, 20, 25, 30, 35, 40, 80, 100]  \n",
    "}\n",
    "\n",
    "df = pd.DataFrame(data)\n",
    "\n",
    "skewness = skew(df[\"Values\"])\n",
    "kurt = kurtosis(df[\"Values\"])\n",
    "\n",
    "print(skewness)\n",
    "print(kurt)\n"
   ]
  },
  {
   "cell_type": "code",
   "execution_count": 50,
   "id": "c9209611-9f3d-40e9-8448-689fe2f4274e",
   "metadata": {},
   "outputs": [
    {
     "data": {
      "image/png": "[encoded data removed]",
      "text/plain": [
       "<Figure size 1500x500 with 2 Axes>"
      ]
     },
     "metadata": {},
     "output_type": "display_data"
    }
   ],
   "source": [
    "#8. Generate a dataset and demonstrate positive and negative skewness?\n",
    "\n",
    "\n",
    "\n",
    "import pandas as pd\n",
    "import seaborn as sns\n",
    "import matplotlib.pyplot as plt\n",
    "from scipy.stats import skew\n",
    "\n",
    "\n",
    "right_skewed_data = [5, 10, 15, 20, 25, 30, 35, 40, 80, 100]\n",
    "\n",
    "left_skewed_data = [5, 20, 40, 60, 75, 80, 85, 90, 92, 95]\n",
    "\n",
    "\n",
    "\n",
    "df = pd.DataFrame({\n",
    "    \"Right Skewed\": right_skewed_data,\n",
    "    \"Left Skewed\": left_skewed_data,\n",
    "})\n",
    "\n",
    "plt.figure(figsize=(15, 5))\n",
    "\n",
    "for i, column in enumerate(df.columns):\n",
    "    plt.subplot(1, 2, i + 1)\n",
    "    sns.histplot(df[column], bins=5, kde=True, color=['red', 'green'][i])\n",
    "    plt.title(f\"{column} Distribution\\nSkewness: {skew(df[column]):.2f}\")\n",
    "    plt.xlabel(\"Values\")\n",
    "    plt.ylabel(\"Frequency\")\n",
    "\n",
    "plt.tight_layout()\n",
    "plt.show()\n"
   ]
  },
  {
   "cell_type": "code",
   "execution_count": 52,
   "id": "8c309b10-d7b9-4b39-afdf-bbfdec908156",
   "metadata": {},
   "outputs": [
    {
     "data": {
      "text/html": [
       "<div>\n",
       "<style scoped>\n",
       "    .dataframe tbody tr th:only-of-type {\n",
       "        vertical-align: middle;\n",
       "    }\n",
       "\n",
       "    .dataframe tbody tr th {\n",
       "        vertical-align: top;\n",
       "    }\n",
       "\n",
       "    .dataframe thead th {\n",
       "        text-align: right;\n",
       "    }\n",
       "</style>\n",
       "<table border=\"1\" class=\"dataframe\">\n",
       "  <thead>\n",
       "    <tr style=\"text-align: right;\">\n",
       "      <th></th>\n",
       "      <th>X</th>\n",
       "      <th>Y</th>\n",
       "    </tr>\n",
       "  </thead>\n",
       "  <tbody>\n",
       "    <tr>\n",
       "      <th>X</th>\n",
       "      <td>250.0</td>\n",
       "      <td>275.0</td>\n",
       "    </tr>\n",
       "    <tr>\n",
       "      <th>Y</th>\n",
       "      <td>275.0</td>\n",
       "      <td>305.0</td>\n",
       "    </tr>\n",
       "  </tbody>\n",
       "</table>\n",
       "</div>"
      ],
      "text/plain": [
       "       X      Y\n",
       "X  250.0  275.0\n",
       "Y  275.0  305.0"
      ]
     },
     "execution_count": 52,
     "metadata": {},
     "output_type": "execute_result"
    }
   ],
   "source": [
    "#9. Write a Python script to calculate covariance between two datasets?\n",
    "\n",
    "import pandas as pd\n",
    "\n",
    "data = {\n",
    "    \"X\": [10, 20, 30, 40, 50], \n",
    "    \"Y\": [15, 25, 35, 45, 60]   \n",
    "}\n",
    "df=pd.DataFrame(data)\n",
    "\n",
    "cov=df.cov()\n",
    "cov"
   ]
  },
  {
   "cell_type": "code",
   "execution_count": 53,
   "id": "addf3173-0d30-478c-964a-9bdd52df60d4",
   "metadata": {},
   "outputs": [
    {
     "data": {
      "text/html": [
       "<div>\n",
       "<style scoped>\n",
       "    .dataframe tbody tr th:only-of-type {\n",
       "        vertical-align: middle;\n",
       "    }\n",
       "\n",
       "    .dataframe tbody tr th {\n",
       "        vertical-align: top;\n",
       "    }\n",
       "\n",
       "    .dataframe thead th {\n",
       "        text-align: right;\n",
       "    }\n",
       "</style>\n",
       "<table border=\"1\" class=\"dataframe\">\n",
       "  <thead>\n",
       "    <tr style=\"text-align: right;\">\n",
       "      <th></th>\n",
       "      <th>X</th>\n",
       "      <th>Y</th>\n",
       "    </tr>\n",
       "  </thead>\n",
       "  <tbody>\n",
       "    <tr>\n",
       "      <th>X</th>\n",
       "      <td>1.000000</td>\n",
       "      <td>0.995893</td>\n",
       "    </tr>\n",
       "    <tr>\n",
       "      <th>Y</th>\n",
       "      <td>0.995893</td>\n",
       "      <td>1.000000</td>\n",
       "    </tr>\n",
       "  </tbody>\n",
       "</table>\n",
       "</div>"
      ],
      "text/plain": [
       "          X         Y\n",
       "X  1.000000  0.995893\n",
       "Y  0.995893  1.000000"
      ]
     },
     "execution_count": 53,
     "metadata": {},
     "output_type": "execute_result"
    }
   ],
   "source": [
    "#10. Write a Python script to calculate the correlation coefficient between two datasets\n",
    "\n",
    "\n",
    "data = {\n",
    "    \"X\": [10, 20, 30, 40, 50], \n",
    "    \"Y\": [15, 25, 35, 45, 60]   \n",
    "}\n",
    "df=pd.DataFrame(data)\n",
    "\n",
    "cor=df.corr()\n",
    "cor"
   ]
  },
  {
   "cell_type": "code",
   "execution_count": 55,
   "id": "fd82bcc7-1fe8-43df-a399-f33ceb7576f8",
   "metadata": {},
   "outputs": [
    {
     "data": {
      "image/png": "[encoded data removed]",
      "text/plain": [
       "<Figure size 700x500 with 1 Axes>"
      ]
     },
     "metadata": {},
     "output_type": "display_data"
    }
   ],
   "source": [
    "#11. Create a scatter plot to visualize the relationship between two variables.\n",
    "\n",
    "import pandas as pd\n",
    "import seaborn as sns\n",
    "import matplotlib.pyplot as plt\n",
    "\n",
    "data = {\n",
    "    \"X\": [10, 20, 30, 40, 50],  \n",
    "    \"Y\": [15, 25, 35, 45, 60]   \n",
    "}\n",
    "\n",
    "df = pd.DataFrame(data)\n",
    "\n",
    "plt.figure(figsize=(7, 5))\n",
    "sns.scatterplot(x=df[\"X\"], y=df[\"Y\"], color=\"blue\", marker=\"o\")\n",
    "\n",
    "plt.title(\"Scatter Plot of X vs Y\")\n",
    "plt.xlabel(\"X values\")\n",
    "plt.ylabel(\"Y values\")\n",
    "\n",
    "plt.show()\n"
   ]
  },
  {
   "cell_type": "code",
   "execution_count": 56,
   "id": "e7da457e-2a0b-45fd-b932-bd585dadfd78",
   "metadata": {},
   "outputs": [
    {
     "name": "stdout",
     "output_type": "stream",
     "text": [
      "\n",
      "Simple Random Sampling:\n",
      "     ID  Value\n",
      "0    1     72\n",
      "17  18     24\n",
      "15  16     56\n",
      "1    2     71\n",
      "8    9     37\n",
      "\n",
      "Systematic Sampling:\n",
      "     ID  Value\n",
      "0    1     72\n",
      "4    5     36\n",
      "8    9     37\n",
      "12  13     73\n",
      "16  17     11\n"
     ]
    }
   ],
   "source": [
    "#12. Implement and compare simple random sampling and systematic sampling.\n",
    "\n",
    "import numpy as np\n",
    "import pandas as pd\n",
    "\n",
    "data = {\n",
    "    \"ID\": range(1, 21),  #\n",
    "    \"Value\": np.random.randint(10, 100, 20) \n",
    "}\n",
    "\n",
    "df = pd.DataFrame(data)\n",
    "\n",
    "simple_random_sample = df.sample(n=5, random_state=42)  \n",
    "\n",
    "k = len(df) // 5 \n",
    "systematic_sample = df.iloc[::k]  \n",
    "\n",
    "\n",
    "print(\"\\nSimple Random Sampling:\\n\", simple_random_sample)\n",
    "print(\"\\nSystematic Sampling:\\n\", systematic_sample)\n"
   ]
  },
  {
   "cell_type": "code",
   "execution_count": 57,
   "id": "3bf4a6c0-95cd-4014-ac99-ba023558899c",
   "metadata": {},
   "outputs": [
    {
     "name": "stdout",
     "output_type": "stream",
     "text": [
      "4.888888888888889   5.0   6\n"
     ]
    }
   ],
   "source": [
    "#13. Calculate the mean, median, and mode of grouped data\n",
    "\n",
    "a=[1,2,3,4,5,6,6,8,9]\n",
    "import numpy as np\n",
    "mean=np.mean(a)\n",
    "median=np.median(a)\n",
    "\n",
    "import statistics as sn\n",
    "mode=sn.mode(a)\n",
    "\n",
    "print(mean,\" \",median,\" \",mode)"
   ]
  },
  {
   "cell_type": "code",
   "execution_count": 61,
   "id": "06e965eb-d9f3-42d0-af5f-afb53419f01f",
   "metadata": {},
   "outputs": [
    {
     "name": "stdout",
     "output_type": "stream",
     "text": [
      "Central tendency:\n",
      "4.888888888888889   5.0   6\n",
      "\n",
      "Dispersion:\n",
      "6.320987654320987   2.5141574442188355\n"
     ]
    }
   ],
   "source": [
    "# 14. Simulate data using Python and calculate its central tendency and dispersion.\n",
    "\n",
    "a=[1,2,3,4,5,6,6,8,9]\n",
    "\n",
    "#central tendency\n",
    "import numpy as np\n",
    "import pandas as pd\n",
    "\n",
    "mean=np.mean(a)\n",
    "median=np.median(a)\n",
    "\n",
    "import statistics as sn\n",
    "mode=sn.mode(a)\n",
    "print(\"Central tendency:\")\n",
    "print(mean,\" \",median,\" \",mode)\n",
    "\n",
    "#dispersion\n",
    "var=sn.pvariance(a)\n",
    "std=sn.pstdev(a)\n",
    "print(\"\\nDispersion:\")\n",
    "print(var,\" \",std)\n",
    "\n",
    "\n"
   ]
  },
  {
   "cell_type": "code",
   "execution_count": 62,
   "id": "5ef67ee4-afe0-41b4-bb4e-df3dcceab599",
   "metadata": {},
   "outputs": [
    {
     "data": {
      "text/html": [
       "<div>\n",
       "<style scoped>\n",
       "    .dataframe tbody tr th:only-of-type {\n",
       "        vertical-align: middle;\n",
       "    }\n",
       "\n",
       "    .dataframe tbody tr th {\n",
       "        vertical-align: top;\n",
       "    }\n",
       "\n",
       "    .dataframe thead th {\n",
       "        text-align: right;\n",
       "    }\n",
       "</style>\n",
       "<table border=\"1\" class=\"dataframe\">\n",
       "  <thead>\n",
       "    <tr style=\"text-align: right;\">\n",
       "      <th></th>\n",
       "      <th>X</th>\n",
       "      <th>Y</th>\n",
       "    </tr>\n",
       "  </thead>\n",
       "  <tbody>\n",
       "    <tr>\n",
       "      <th>count</th>\n",
       "      <td>5.000000</td>\n",
       "      <td>5.000000</td>\n",
       "    </tr>\n",
       "    <tr>\n",
       "      <th>mean</th>\n",
       "      <td>30.000000</td>\n",
       "      <td>36.000000</td>\n",
       "    </tr>\n",
       "    <tr>\n",
       "      <th>std</th>\n",
       "      <td>15.811388</td>\n",
       "      <td>17.464249</td>\n",
       "    </tr>\n",
       "    <tr>\n",
       "      <th>min</th>\n",
       "      <td>10.000000</td>\n",
       "      <td>15.000000</td>\n",
       "    </tr>\n",
       "    <tr>\n",
       "      <th>25%</th>\n",
       "      <td>20.000000</td>\n",
       "      <td>25.000000</td>\n",
       "    </tr>\n",
       "    <tr>\n",
       "      <th>50%</th>\n",
       "      <td>30.000000</td>\n",
       "      <td>35.000000</td>\n",
       "    </tr>\n",
       "    <tr>\n",
       "      <th>75%</th>\n",
       "      <td>40.000000</td>\n",
       "      <td>45.000000</td>\n",
       "    </tr>\n",
       "    <tr>\n",
       "      <th>max</th>\n",
       "      <td>50.000000</td>\n",
       "      <td>60.000000</td>\n",
       "    </tr>\n",
       "  </tbody>\n",
       "</table>\n",
       "</div>"
      ],
      "text/plain": [
       "               X          Y\n",
       "count   5.000000   5.000000\n",
       "mean   30.000000  36.000000\n",
       "std    15.811388  17.464249\n",
       "min    10.000000  15.000000\n",
       "25%    20.000000  25.000000\n",
       "50%    30.000000  35.000000\n",
       "75%    40.000000  45.000000\n",
       "max    50.000000  60.000000"
      ]
     },
     "execution_count": 62,
     "metadata": {},
     "output_type": "execute_result"
    }
   ],
   "source": [
    "#15. Use NumPy or pandas to summarize a dataset’s descriptive statistics.\n",
    "\n",
    "import pandas as pd\n",
    "import numpy as np\n",
    "\n",
    "data = {\n",
    "    \"X\": [10, 20, 30, 40, 50],  \n",
    "    \"Y\": [15, 25, 35, 45, 60]   \n",
    "}\n",
    "df=pd.DataFrame(data)\n",
    "df.describe()"
   ]
  },
  {
   "cell_type": "code",
   "execution_count": 67,
   "id": "7ba9061a-d448-44d8-b289-ef71fd86b31d",
   "metadata": {},
   "outputs": [
    {
     "data": {
      "text/plain": [
       "<Axes: >"
      ]
     },
     "execution_count": 67,
     "metadata": {},
     "output_type": "execute_result"
    },
    {
     "data": {
      "image/png": "[encoded data removed]",
      "text/plain": [
       "<Figure size 640x480 with 1 Axes>"
      ]
     },
     "metadata": {},
     "output_type": "display_data"
    }
   ],
   "source": [
    "#16. Plot a boxplot to understand the spread and identify outliers>\n",
    "\n",
    "a=[-20,-1,2,3,4,5,6,10,25]\n",
    "\n",
    "import seaborn as sns\n",
    "\n",
    "sns.boxplot(a)"
   ]
  },
  {
   "cell_type": "code",
   "execution_count": 69,
   "id": "ea0f1e43-2b56-4de4-9783-6ad0c84a9899",
   "metadata": {},
   "outputs": [
    {
     "name": "stdout",
     "output_type": "stream",
     "text": [
      "20.0   20.0\n"
     ]
    }
   ],
   "source": [
    "#17. Calculate the interquartile range (IQR) of a dataset\n",
    "\n",
    "import numpy as np\n",
    "import pandas as pd\n",
    "data = {\n",
    "    \"X\": [10, 20, 30, 40, 50],\n",
    "    \"Y\": [15, 25, 35, 45, 60]\n",
    "}\n",
    "\n",
    "# Convert to DataFrame\n",
    "df = pd.DataFrame(data)\n",
    "\n",
    "# Calculate IQR for each column\n",
    "Q1_X, Q3_X = np.percentile(df[\"X\"], [25, 75])  # 1st quartile (25%) and 3rd quartile (75%)\n",
    "IQR_X = Q3_X - Q1_X\n",
    "\n",
    "Q1_Y, Q3_Y = np.percentile(df[\"Y\"], [25, 75])  # For column Y\n",
    "IQR_Y = Q3_Y - Q1_Y\n",
    "\n",
    "print(IQR_X,\" \",IQR_Y)"
   ]
  },
  {
   "cell_type": "code",
   "execution_count": 70,
   "id": "e136e778-d816-4537-a1f4-c053f6c7384b",
   "metadata": {},
   "outputs": [
    {
     "name": "stdout",
     "output_type": "stream",
     "text": [
      "\n",
      "Z-Score Normalized Data:\n",
      "           X         Y\n",
      "0 -1.414214 -1.344387\n",
      "1 -0.707107 -0.704203\n",
      "2  0.000000 -0.064018\n",
      "3  0.707107  0.576166\n",
      "4  1.414214  1.536443\n"
     ]
    }
   ],
   "source": [
    "#18.  Implement Z-score normalization and explain its significance\n",
    "\n",
    "import numpy as np\n",
    "import pandas as pd\n",
    "from scipy.stats import zscore\n",
    "\n",
    "data = {\n",
    "    \"X\": [10, 20, 30, 40, 50],\n",
    "    \"Y\": [15, 25, 35, 45, 60]\n",
    "}\n",
    "\n",
    "df = pd.DataFrame(data)\n",
    "\n",
    "\n",
    "df_zscore = df.apply(zscore)\n",
    "\n",
    "# Print Results\n",
    "print(\"\\nZ-Score Normalized Data:\\n\", df_zscore)\n"
   ]
  },
  {
   "cell_type": "code",
   "execution_count": 72,
   "id": "ece158f1-2162-4490-bec5-2ded8686964f",
   "metadata": {},
   "outputs": [
    {
     "name": "stdout",
     "output_type": "stream",
     "text": [
      "Standard Deviation of Dataset 1: 15.81\n",
      "Standard Deviation of Dataset 2: 17.46\n",
      "Dataset 2 has higher variability.\n"
     ]
    }
   ],
   "source": [
    "# 19. Compare two datasets using their standard deviations\n",
    "import numpy as np\n",
    "import pandas as pd\n",
    "\n",
    "data1 = [10, 20, 30, 40, 50]\n",
    "data2 = [15, 25, 35, 45, 60]\n",
    "\n",
    "df = pd.DataFrame({\"Dataset 1\": data1, \"Dataset 2\": data2})\n",
    "\n",
    "std1 = np.std(df[\"Dataset 1\"], ddof=1)\n",
    "std2 = np.std(df[\"Dataset 2\"], ddof=1)\n",
    "\n",
    "print(f\"Standard Deviation of Dataset 1: {std1:.2f}\")\n",
    "print(f\"Standard Deviation of Dataset 2: {std2:.2f}\")\n",
    "\n",
    "if std1 > std2:\n",
    "    print(\"Dataset 1 has higher variability.\")\n",
    "elif std1 < std2:\n",
    "    print(\"Dataset 2 has higher variability.\")\n",
    "else:\n",
    "    print(\"Both datasets have the same variability.\")\n"
   ]
  },
  {
   "cell_type": "code",
   "execution_count": 73,
   "id": "172cad6d-5edd-41d8-b4b4-982c7021178d",
   "metadata": {},
   "outputs": [
    {
     "data": {
      "image/png": "[encoded data removed]",
      "text/plain": [
       "<Figure size 600x400 with 2 Axes>"
      ]
     },
     "metadata": {},
     "output_type": "display_data"
    }
   ],
   "source": [
    "#20. Write a Python program to visualize covariance using a heatmap.\n",
    "\n",
    "import numpy as np\n",
    "import pandas as pd\n",
    "import seaborn as sns\n",
    "import matplotlib.pyplot as plt\n",
    "\n",
    "\n",
    "data = {\n",
    "    \"X\": [10, 20, 30, 40, 50],\n",
    "    \"Y\": [15, 25, 35, 45, 60],\n",
    "    \"Z\": [5, 12, 24, 33, 45]  \n",
    "}\n",
    "\n",
    "df = pd.DataFrame(data)\n",
    "\n",
    "cov_matrix = df.cov()\n",
    "\n",
    "plt.figure(figsize=(6, 4))\n",
    "sns.heatmap(cov_matrix, annot=True, cmap=\"coolwarm\", fmt=\".2f\", linewidths=0.5)\n",
    "\n",
    "plt.title(\"Covariance Matrix Heatmap\")\n",
    "\n",
    "plt.show()\n"
   ]
  },
  {
   "cell_type": "code",
   "execution_count": 74,
   "id": "46d893f3-7b96-4176-8faa-73d7d96e47d4",
   "metadata": {},
   "outputs": [
    {
     "data": {
      "image/png": "[encoded data removed]",
      "text/plain": [
       "<Figure size 600x400 with 2 Axes>"
      ]
     },
     "metadata": {},
     "output_type": "display_data"
    }
   ],
   "source": [
    "#21. Use seaborn to create a correlation matrix for a dataset.\n",
    "\n",
    "import numpy as np\n",
    "import pandas as pd\n",
    "import seaborn as sns\n",
    "import matplotlib.pyplot as plt\n",
    "\n",
    "data = {\n",
    "    \"X\": [10, 20, 30, 40, 50],\n",
    "    \"Y\": [15, 25, 35, 45, 60],\n",
    "    \"Z\": [5, 12, 24, 33, 45]  \n",
    "}\n",
    "\n",
    "df = pd.DataFrame(data)\n",
    "\n",
    "corr_matrix = df.corr()\n",
    "\n",
    "plt.figure(figsize=(6, 4))\n",
    "sns.heatmap(corr_matrix, annot=True, cmap=\"coolwarm\", fmt=\".2f\", linewidths=0.5)\n",
    "\n",
    "plt.title(\"Correlation Matrix Heatmap\")\n",
    "\n",
    "plt.show()\n"
   ]
  },
  {
   "cell_type": "code",
   "execution_count": 75,
   "id": "48f0d423-f7bc-4c54-8440-23d353326140",
   "metadata": {},
   "outputs": [
    {
     "name": "stdout",
     "output_type": "stream",
     "text": [
      "6.320987654320987   2.5141574442188355\n"
     ]
    }
   ],
   "source": [
    "#22. Generate a dataset and implement both variance and standard deviation computations\n",
    "\n",
    "a=[1,2,3,4,5,6,6,8,9]\n",
    "import statistics as sn\n",
    "\n",
    "var=sn.pvariance(a)\n",
    "std=sn.pstdev(a)\n",
    "print(var,\" \",std)"
   ]
  },
  {
   "cell_type": "code",
   "execution_count": null,
   "id": "66ede958-c440-46cb-a4dd-726b38508681",
   "metadata": {},
   "outputs": [],
   "source": [
    "#23. Visualize skewness and kurtosis using Python libraries like matplotlib or seaborn.\n",
    "\n",
    "import numpy as np\n",
    "import pandas as pd\n",
    "import seaborn as sns\n",
    "import matplotlib.pyplot as plt\n",
    "from scipy.stats import skew, kurtosis\n",
    "\n",
    "data = {\n",
    "    \"X\": [10, 15, 20, 30, 50, 100, 150]  # Positively skewed data\n",
    "}\n",
    "\n",
    "# Convert to DataFrame\n",
    "df = pd.DataFrame(data)\n",
    "\n",
    "# Calculate skewness & kurtosis\n",
    "skewness = skew(df[\"X\"])\n",
    "kurt = kurtosis(df[\"X\"])\n",
    "\n",
    "# Plot Histogram to visualize skewness\n",
    "plt.figure(figsize=(6, 4))\n",
    "sns.histplot(df[\"X\"], bins=6, kde=True, color=\"blue\")\n",
    "plt.title(f\"Histogram of X\\nSkewness: {skewness:.2f}, Kurtosis: {kurt:.2f}\")\n",
    "plt.xlabel(\"X values\")\n",
    "plt.ylabel(\"Frequency\")\n",
    "plt.grid()\n",
    "\n",
    "# Show the plot\n",
    "plt.show()\n"
   ]
  }
 ],
 "metadata": {
  "kernelspec": {
   "display_name": "Python 3 (ipykernel)",
   "language": "python",
   "name": "python3"
  },
  "language_info": {
   "codemirror_mode": {
    "name": "ipython",
    "version": 3
   },
   "file_extension": ".py",
   "mimetype": "text/x-python",
   "name": "python",
   "nbconvert_exporter": "python",
   "pygments_lexer": "ipython3",
   "version": "3.12.7"
  }
 },
 "nbformat": 4,
 "nbformat_minor": 5
}
